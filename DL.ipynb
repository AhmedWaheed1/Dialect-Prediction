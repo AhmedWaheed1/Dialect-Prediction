{
  "nbformat": 4,
  "nbformat_minor": 0,
  "metadata": {
    "colab": {
      "name": "DL.ipynb",
      "provenance": [],
      "collapsed_sections": []
    },
    "kernelspec": {
      "name": "python3",
      "display_name": "Python 3"
    },
    "language_info": {
      "name": "python"
    },
    "accelerator": "GPU"
  },
  "cells": [
    {
      "cell_type": "markdown",
      "source": [
        "**Training the model by Keras NLP**"
      ],
      "metadata": {
        "id": "LCMRjNiwXHkd"
      }
    },
    {
      "cell_type": "markdown",
      "source": [
        "Reading Dataset"
      ],
      "metadata": {
        "id": "MwQ35TXDGjI7"
      }
    },
    {
      "cell_type": "code",
      "source": [
        "import pandas\n",
        "data_set = pandas.read_csv(\"dialect_dataset_cleaned.csv\",encoding ='utf-16')\n",
        "\n",
        "from sklearn.preprocessing import LabelEncoder\n",
        "x = list(map(str, data_set['text']) )\n",
        "y = LabelEncoder().fit_transform(data_set['dialect'])"
      ],
      "metadata": {
        "id": "5lx_7wVqa0Vv"
      },
      "execution_count": null,
      "outputs": []
    },
    {
      "cell_type": "markdown",
      "source": [
        "Data reprocessing"
      ],
      "metadata": {
        "id": "YEv1VbSjG_CH"
      }
    },
    {
      "cell_type": "code",
      "source": [
        "from tensorflow.keras.preprocessing.text import Tokenizer\n",
        "from tensorflow.keras.preprocessing.sequence import pad_sequences\n",
        "\n",
        "tokenizer = Tokenizer(num_words = 600000, oov_token=\"<OOV>\")\n",
        "tokenizer.fit_on_texts(x)\n",
        "\n",
        "x = tokenizer.texts_to_sequences(x)\n",
        "x = pad_sequences(x, padding='post', maxlen=80)\n",
        "\n",
        "from sklearn.model_selection import train_test_split as split\n",
        "xTrain , xTest , yTrain , yTest = split (x , y , test_size=.2)"
      ],
      "metadata": {
        "id": "4W8fKQENF_Ec"
      },
      "execution_count": null,
      "outputs": []
    },
    {
      "cell_type": "markdown",
      "source": [
        "The Model"
      ],
      "metadata": {
        "id": "y2bho3AkHRMg"
      }
    },
    {
      "cell_type": "code",
      "source": [
        "from keras.models import Sequential\n",
        "from keras.layers import LSTM , Bidirectional\n",
        "from keras.layers.embeddings import Embedding\n",
        "from keras.layers.core import Dense\n",
        "model = Sequential([\n",
        "        Embedding(600000,80, input_length=80 ),\n",
        "        Bidirectional(LSTM(50)),\n",
        "        Dense(18, activation='softmax')\n",
        "        ])\n",
        "model.compile ( loss='sparse_categorical_crossentropy' , optimizer='RMSprop' , metrics=['accuracy'] )\n",
        "model.summary()\n",
        "history = model.fit(xTrain , yTrain , epochs=3 , batch_size=256 , validation_data= (xTest,yTest) )"
      ],
      "metadata": {
        "colab": {
          "base_uri": "https://localhost:8080/"
        },
        "id": "mhpO1mTEbWrP",
        "outputId": "bf63dc55-f14c-43d3-dec3-bcb35c2a392b"
      },
      "execution_count": null,
      "outputs": [
        {
          "output_type": "stream",
          "name": "stdout",
          "text": [
            "Model: \"sequential\"\n",
            "_________________________________________________________________\n",
            " Layer (type)                Output Shape              Param #   \n",
            "=================================================================\n",
            " embedding (Embedding)       (None, 80, 80)            48000000  \n",
            "                                                                 \n",
            " bidirectional (Bidirectiona  (None, 100)              52400     \n",
            " l)                                                              \n",
            "                                                                 \n",
            " dense (Dense)               (None, 18)                1818      \n",
            "                                                                 \n",
            "=================================================================\n",
            "Total params: 48,054,218\n",
            "Trainable params: 48,054,218\n",
            "Non-trainable params: 0\n",
            "_________________________________________________________________\n",
            "Epoch 1/3\n",
            "1432/1432 [==============================] - 723s 502ms/step - loss: 2.0826 - accuracy: 0.3372 - val_loss: 1.7491 - val_accuracy: 0.4428\n",
            "Epoch 2/3\n",
            "1432/1432 [==============================] - 775s 541ms/step - loss: 1.5237 - accuracy: 0.5200 - val_loss: 1.5911 - val_accuracy: 0.5040\n",
            "Epoch 3/3\n",
            "1432/1432 [==============================] - 692s 483ms/step - loss: 1.2370 - accuracy: 0.6184 - val_loss: 1.5462 - val_accuracy: 0.5285\n"
          ]
        }
      ]
    },
    {
      "cell_type": "markdown",
      "source": [
        "Model performance"
      ],
      "metadata": {
        "id": "rbG9F0qxHdaU"
      }
    },
    {
      "cell_type": "code",
      "source": [
        "import matplotlib.pyplot as plt\n",
        "plt.plot(history.history[\"accuracy\"])\n",
        "plt.plot(history.history[\"val_accuracy\"])\n",
        "plt.xlabel(\"Epochs\")\n",
        "plt.ylabel(\"accuracy\")\n",
        "plt.legend([\"accuracy\", \"val_accuracy\"])\n",
        "plt.show()"
      ],
      "metadata": {
        "colab": {
          "base_uri": "https://localhost:8080/",
          "height": 279
        },
        "id": "qe2JLGcDjvDK",
        "outputId": "2cabc5bc-578c-48e6-8a54-21c54e558974"
      },
      "execution_count": null,
      "outputs": [
        {
          "output_type": "display_data",
          "data": {
            "text/plain": [
              "<Figure size 432x288 with 1 Axes>"
            ],
            "image/png": "[encoded data removed]"
          },
          "metadata": {
            "needs_background": "light"
          }
        }
      ]
    },
    {
      "cell_type": "markdown",
      "source": [
        "Test the Model by unknown instance"
      ],
      "metadata": {
        "id": "iTsfMACpHzMV"
      }
    },
    {
      "cell_type": "code",
      "source": [
        "input_sentence= input(\" Enter your test case \")\n",
        "\n",
        "#Text cleaning by regex to replace all bits except arabic letters by spaces\n",
        "#remove [ English letters , numbers , special characters , ... ] as They not affect on The dialect\n",
        "import re\n",
        "match = r'[^\\u0020\\u0600-\\u06ff\\u0750-\\u077f\\ufb50-\\ufbc1\\ufbd3-\\ufd3f\\ufd50-\\ufd8f\\ufd50-\\ufd8f\\ufe70-\\ufefc\\uFDF0-\\uFDFD]+'\n",
        "input_sentence = re.sub(match ,' ', input_sentence)\n",
        "\n",
        "input_sentence = ' '.join(input_sentence.split()) #replace spaces by only 1 space\n",
        "\n",
        "input_sentence = tokenizer.texts_to_sequences([input_sentence])\n",
        "input_sentence = pad_sequences(input_sentence, padding='post', maxlen=80)\n",
        "\n",
        "from numpy.ma.core import argmax\n",
        "encoder = LabelEncoder().fit(data_set['dialect'])\n",
        "\n",
        "predict = model.predict(input_sentence) #vector[18]\n",
        "print( encoder.inverse_transform ([ argmax(predict) ]) [0]  +\" with probability = \"+  str(max( predict[0] ))  ) # Model output"
      ],
      "metadata": {
        "id": "x24A2yB1Pnov"
      },
      "execution_count": null,
      "outputs": []
    }
  ]
}